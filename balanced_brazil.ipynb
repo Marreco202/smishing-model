{
 "cells": [
  {
   "cell_type": "markdown",
   "id": "7151fcda",
   "metadata": {},
   "source": [
    "## Modelo de Detecção de Modelos de Detecção de Smishing\n",
    "\n",
    "Ankit Kumar Jain, B.B. Gupta,\n",
    "Rule-Based Framework for Detection of Smishing Messages in Mobile Environment,\n",
    "Procedia Computer Science,\n",
    "Volume 125,\n",
    "2018,\n",
    "Pages 617-623,\n",
    "ISSN 1877-0509,\n",
    "https://doi.org/10.1016/j.procs.2017.12.079.\n",
    "(https://www.sciencedirect.com/science/article/pii/S1877050917328478)\n",
    "Abstract: Smishing is a cyber-security attack, which utilizes Short Message Service (SMS) to steal personal credentials of mobile users. The trust level of users on their smart devices has attracted attackers for performing various mobile security attacks like Smishing. In this paper, we implement the rule-based data mining classification approach in the detection of smishing messages. The proposed approach identified nine rules which can efficiently filter smishing SMS from the genuine one. Further, our approach applies rule-based classification algorithms to train these outstanding rules. Since the SMS text messages are very short and generally written in Lingo language, we have used text normalization to convert them into standard form to obtain better rules. The performance of the proposed approach is evaluated, and it achieved more than 99% true negative rate. Furthermore, the proposed approach is very efficient for the detection of the zero hour attack too.\n",
    "Keywords: Smishing; Mobile Phishing; Data mining; Short messaging service; Machine learning\n",
    "\n",
    "> Reprodução de resultados"
   ]
  },
  {
   "cell_type": "code",
   "execution_count": 7,
   "id": "71268bd8",
   "metadata": {},
   "outputs": [],
   "source": [
    "import pandas as pd\n",
    "import re\n",
    "import nltk\n",
    "from nltk.corpus import stopwords\n",
    "from nltk.stem.porter import PorterStemmer\n",
    "import ruleset_br as ruleset"
   ]
  },
  {
   "cell_type": "markdown",
   "id": "5a75896f",
   "metadata": {},
   "source": [
    "#### 1. Pré processamento dos dados"
   ]
  },
  {
   "cell_type": "code",
   "execution_count": 8,
   "id": "08546b29",
   "metadata": {},
   "outputs": [
    {
     "data": {
      "application/vnd.microsoft.datawrangler.viewer.v0+json": {
       "columns": [
        {
         "name": "index",
         "rawType": "int64",
         "type": "integer"
        },
        {
         "name": "label",
         "rawType": "object",
         "type": "string"
        },
        {
         "name": "text",
         "rawType": "object",
         "type": "unknown"
        }
       ],
       "ref": "96388c23-19b5-4902-96bd-ea39e1029bca",
       "rows": [
        [
         "0",
         "ham",
         "âVai atÃ© o ponto final, loucoâ¦ SÃ³ disponÃ­vel no bugis e na grande mundo la, e no buffetâ¦ Cine lÃ¡, tem amore wat?â"
        ],
        [
         "1",
         "ham",
         "âOk lar... Joking wif u oniâ¦â\n"
        ],
        [
         "2",
         "spam",
         "âOlÃ¡! Sua entrada para os bilhetes da final da FA Cup estÃ¡ suspensa devido a atividade suspeita. Para verificar seus dados, clique aqui: [link]\"\n"
        ],
        [
         "3",
         "ham",
         "âEi, vocÃª disse que estÃ¡ muito cedoâ¦ JÃ¡, entÃ£o dizâ¦â"
        ],
        [
         "4",
         "ham",
         "âNÃ£o, eu nÃ£o acho que ele vai para nÃ³s, ele vive por aqui, mesmo.â"
        ],
        [
         "5",
         "spam",
         "âOi! JÃ¡ faz 3 semanas e nÃ£o tem resposta! Queria algo divertido pra gente fazer ainda? Ok! Beijo! XxXâ"
        ],
        [
         "6",
         "ham",
         "âMeu irmÃ£o nÃ£o fala comigo. Eles me tratam como um patente de assistÃªncia.â"
        ],
        [
         "7",
         "ham",
         "âOi! Sua chamada estÃ¡ definida como o callertune para todos os Callers. Pressione *9 para copiar o callertune dos seus amigos.â"
        ],
        [
         "8",
         "spam",
         "âVencedor(a)! Como cliente valiosa da nossa rede, vocÃª foi selecionado(a) para receber um prÃªmio de 900 libras! Para reclamar, ligue 09061701461. CÃ³digo de claim: KL341. Validade de 12 horas apenas.â"
        ],
        [
         "9",
         "spam",
         "âVocÃª jÃ¡ tinha o celular hÃ¡ 11 meses ou mais? VocÃª tem direito a atualizar para os novos celulares com cÃ¢mera, totalmente grÃ¡tis! Ligue para A Mobile Update Co GRATIS no 08002986030.â\n"
        ],
        [
         "10",
         "ham",
         "âVou estar em casa em breve e nÃ£o quero falar sobre essas coisas hoje, nÃ©? Eu chorei o suficiente hoje.â"
        ],
        [
         "11",
         "spam",
         "âSix chances to win CASH! From 100 to 20,000 pounds txt> CSH11 and send to 87575. Cost 150p/day, 6days, 16+ TsandCs apply Reply HL 4 infoâ\n"
        ],
        [
         "12",
         "spam",
         "âURGENTE! VocÃª ganhou uma assinatura de 1 semana GRATUITA em nossa premiaÃ§Ã£o de 100.000 libras! Txt a palavra: CLAIM to No: 81010 T&C www.dbuk.net LCCLTD POBOX 4403LDNW1A7RW18â"
        ],
        [
         "13",
         "ham",
         "âEstou procurando as palavras certas para te agradecer por esse descanso. Prometo que nÃ£o vou usar sua ajuda sem valor e vou cumprir meu compromisso. VocÃª tem sido maravilhoso e uma bÃªnÃ§Ã£o em todos os momentos.â"
        ],
        [
         "14",
         "ham",
         "âE eu tenho um encontro de domingo com Will!â"
        ],
        [
         "15",
         "spam",
         "âOlÃ¡! Use seu crÃ©dito, clique no link da WAP no prÃ³ximo texto ou clique aqui: http://wap. xxxMobileMovieClub?n=QJKGIGHJJGCBLâ\n"
        ],
        [
         "16",
         "ham",
         "âOlÃ¡! VocÃª estÃ¡ vendo isso?!â"
        ],
        [
         "17",
         "ham",
         "âEi, vocÃª se lembra de como escrever o nome dele...? Sim, eu sei. Ele fez uma coisa muito mal atÃ© eu ficar encharcada.â"
        ],
        [
         "18",
         "ham",
         "âEstÃ¡ bem se for o que vocÃª sente. Isso Ã© o que Ã©, Ã© que caiu assim.â"
        ],
        [
         "19",
         "spam",
         "âEngland vs. Macedonia â nÃ£o perca os gols/notÃ­cias da equipe. Texto para a equipe nacional para 87077 EG, ENGLAND. Txt/ÃÂ¼1.20 POBOXox36504W45WQ 16+â."
        ],
        [
         "20",
         "ham",
         "âÃ que Ã© de verdade, nÃ©? Como vocÃª escreve o nome dele?â"
        ],
        [
         "21",
         "ham",
         "âVou tentar por 2 meses, sÃ³ estou rindo.â"
        ],
        [
         "22",
         "ham",
         "âEntÃ£o, primeiro, preciso pagarâ¦ Depois, quando a cotaÃ§Ã£o vai chegar?â"
        ],
        [
         "23",
         "ham",
         "âEu termino meu almoÃ§o, depois vou para baixo lÃ¡. Algo aqui, certo? U termino meu almoÃ§o jÃ¡?â"
        ],
        [
         "24",
         "ham",
         "âOlÃ¡! Seu acesso Ã  conta da Amazon foi suspenso por atividade estranha. Pra verificar seus dados, clique aqui: [link]\"\n\nâAlright, nÃ£o posso te encontrar mais cedo?â"
        ],
        [
         "25",
         "ham",
         "âAÃ­, me forÃ§ei a comer uma fatia. Realmente nÃ£o estou com fome, nÃ©? Isso tÃ¡ pÃ©ssimo. Mark tÃ¡ preocupado. Ele sabe que eu tÃ´ doente quando eu desisto de pizza. ðâ"
        ],
        [
         "26",
         "ham",
         "âHaha, vocÃª sempre Ã© tÃ£o convincente.â"
        ],
        [
         "27",
         "ham",
         "âVocÃª pegou o Ã´nibus? VocÃª fritando um ovo? VocÃª fez um chÃ¡? VocÃª comendo a sobremesa da sua mÃ£e? VocÃª sente meu amor?â"
        ],
        [
         "28",
         "ham",
         "âEstou de volta e estamos embalando o carro agora, avisarei se tem espaÃ§o.â"
        ],
        [
         "29",
         "ham",
         "âAhhh. Trabalho. Eu vagamente lembro disso! O que Ã© isso? Lolâ"
        ],
        [
         "30",
         "ham",
         "âCalma, isso ainda nÃ£o estÃ¡ totalmente claro. VocÃª nÃ£o estava seguro(a) de que eu estava sendo sarcÃ¡stica ou que isso Ã© a razÃ£o pela qual x nÃ£o quer viver com nÃ³s?â"
        ],
        [
         "31",
         "ham",
         "âE aÃ­, ele entrou por 2 e tava super arrependido. Ela tinha saÃ­do e estava agindo como uma crianÃ§a mimada e ele se envolveu com isso. AtÃ© 2! Mas nÃ£o vamos nisso! NÃ£o estamos muito ruins, hein? VocÃª?â"
        ],
        [
         "32",
         "ham",
         "âK tell me anything about you.â"
        ],
        [
         "33",
         "ham",
         "âCalma, tÃ¡? VocÃª fez tanta bagunÃ§a, nÃ©? Rapidinho, uma xÃ­cara de chÃ¡, tÃ¡?â"
        ],
        [
         "34",
         "spam",
         "\"Obrigado pela sua assinatura do Ringtone UK, seu celular serÃ¡ cobrado Â£5/mÃªs. Confirme respondendo YES ou NO. Se responder NO, nÃ£o serÃ¡ cobrado.\"\n"
        ],
        [
         "35",
         "ham",
         "âUÃ©â¦ Ok, eu vou pra casa. Depois eu mando uma mensagem pra vocÃª de novoâ¦ Xuhui tambÃ©m vai estudar no segundo de maio, tambÃ©m, mas a aula dela Ã© Ã s 8 da manhÃ£.â"
        ],
        [
         "36",
         "ham",
         "âOops, eu vou te avisar quando o roommate terminar.â\n"
        ],
        [
         "37",
         "ham",
         "âOlha a letra B no meu carro.â"
        ],
        [
         "38",
         "ham",
         "âQualquer coisa, entÃ£o... VocÃª decide...â"
        ],
        [
         "39",
         "ham",
         "âOi! Como vocÃª estÃ¡? Como foi o sÃ¡bado? Eu estava sÃ³ trocando mensagens pra ver se vocÃª decidiu fazer alguma coisa. NÃ£o que eu esteja tentando te convidar ou qualquer coisa!â"
        ],
        [
         "40",
         "ham",
         "âPode deixar com watts. SÃ³ queria ter certeza. Tenha um Ã³timo fim de semana. Abiolaâ"
        ],
        [
         "41",
         "ham",
         "âVocÃª esqueceu de me contar? Eu quero vocÃª, eu preciso de vocÃª, eu cravei vocÃª... Mas, principalmente... Eu te amo, meu doce cavalo Ã¡rabe... Mmmmmm... Delicioso.â"
        ],
        [
         "42",
         "spam",
         "âOlÃ¡! Tentamos ligar para vocÃª em resposta ao seu retorno. Para uma oferta de Nokia mobile e cÃ¢mera gratuita, ligue agora para 08000930705 para entrega amanhÃ£.â\n"
        ],
        [
         "43",
         "ham",
         "âE aÃ­, vocÃª tÃ¡ vendo o quÃª?â"
        ],
        [
         "44",
         "ham",
         "âÃtimo! Espero que vocÃª goste do seu homem bem rico. Estou &lt;#&gt;  inchesâ¦â"
        ],
        [
         "45",
         "ham",
         "âNo calls..messages..missed callsâ"
        ],
        [
         "46",
         "ham",
         "âEi, vocÃª recebeu a imunizaÃ§Ã£o contra o hep B na NigÃ©ria?â"
        ],
        [
         "47",
         "ham",
         "âÃ verdade, viu? Alguma coisa acontecendo?â"
        ],
        [
         "48",
         "ham",
         "âSim, espero que Tyle, se nÃ£o conseguir, eu possa perguntar um pouco para os outros.â"
        ],
        [
         "49",
         "ham",
         "âVocÃª nÃ£o sabe o quÃ£o persistente eu sou. Eu nem queria ir ao hospital. Eu sempre dizendo a Mark que eu nÃ£o sou um burro. Hospitais sÃ£o para burros.â"
        ]
       ],
       "shape": {
        "columns": 2,
        "rows": 5572
       }
      },
      "text/html": [
       "<div>\n",
       "<style scoped>\n",
       "    .dataframe tbody tr th:only-of-type {\n",
       "        vertical-align: middle;\n",
       "    }\n",
       "\n",
       "    .dataframe tbody tr th {\n",
       "        vertical-align: top;\n",
       "    }\n",
       "\n",
       "    .dataframe thead th {\n",
       "        text-align: right;\n",
       "    }\n",
       "</style>\n",
       "<table border=\"1\" class=\"dataframe\">\n",
       "  <thead>\n",
       "    <tr style=\"text-align: right;\">\n",
       "      <th></th>\n",
       "      <th>label</th>\n",
       "      <th>text</th>\n",
       "    </tr>\n",
       "  </thead>\n",
       "  <tbody>\n",
       "    <tr>\n",
       "      <th>0</th>\n",
       "      <td>ham</td>\n",
       "      <td>âVai atÃ© o ponto final, loucoâ¦ SÃ³ dispon...</td>\n",
       "    </tr>\n",
       "    <tr>\n",
       "      <th>1</th>\n",
       "      <td>ham</td>\n",
       "      <td>âOk lar... Joking wif u oniâ¦â\\n</td>\n",
       "    </tr>\n",
       "    <tr>\n",
       "      <th>2</th>\n",
       "      <td>spam</td>\n",
       "      <td>âOlÃ¡! Sua entrada para os bilhetes da final...</td>\n",
       "    </tr>\n",
       "    <tr>\n",
       "      <th>3</th>\n",
       "      <td>ham</td>\n",
       "      <td>âEi, vocÃª disse que estÃ¡ muito cedoâ¦ JÃ¡...</td>\n",
       "    </tr>\n",
       "    <tr>\n",
       "      <th>4</th>\n",
       "      <td>ham</td>\n",
       "      <td>âNÃ£o, eu nÃ£o acho que ele vai para nÃ³s, e...</td>\n",
       "    </tr>\n",
       "    <tr>\n",
       "      <th>...</th>\n",
       "      <td>...</td>\n",
       "      <td>...</td>\n",
       "    </tr>\n",
       "    <tr>\n",
       "      <th>5567</th>\n",
       "      <td>spam</td>\n",
       "      <td>âEssa Ã© a segunda vez que tentamos entrar e...</td>\n",
       "    </tr>\n",
       "    <tr>\n",
       "      <th>5568</th>\n",
       "      <td>ham</td>\n",
       "      <td>âVai vai esplanade pra casa?â</td>\n",
       "    </tr>\n",
       "    <tr>\n",
       "      <th>5569</th>\n",
       "      <td>ham</td>\n",
       "      <td>âAinda bem, estava em um clima de que nem is...</td>\n",
       "    </tr>\n",
       "    <tr>\n",
       "      <th>5570</th>\n",
       "      <td>ham</td>\n",
       "      <td>âO cara fez algumas piadas, mas eu parei de ...</td>\n",
       "    </tr>\n",
       "    <tr>\n",
       "      <th>5571</th>\n",
       "      <td>ham</td>\n",
       "      <td>âÃ verdade. Ã um nome.â</td>\n",
       "    </tr>\n",
       "  </tbody>\n",
       "</table>\n",
       "<p>5572 rows × 2 columns</p>\n",
       "</div>"
      ],
      "text/plain": [
       "     label                                               text\n",
       "0      ham  âVai atÃ© o ponto final, loucoâ¦ SÃ³ dispon...\n",
       "1      ham              âOk lar... Joking wif u oniâ¦â\\n\n",
       "2     spam  âOlÃ¡! Sua entrada para os bilhetes da final...\n",
       "3      ham  âEi, vocÃª disse que estÃ¡ muito cedoâ¦ JÃ¡...\n",
       "4      ham  âNÃ£o, eu nÃ£o acho que ele vai para nÃ³s, e...\n",
       "...    ...                                                ...\n",
       "5567  spam  âEssa Ã© a segunda vez que tentamos entrar e...\n",
       "5568   ham                  âVai vai esplanade pra casa?â\n",
       "5569   ham  âAinda bem, estava em um clima de que nem is...\n",
       "5570   ham  âO cara fez algumas piadas, mas eu parei de ...\n",
       "5571   ham                      âÃ verdade. Ã um nome.â\n",
       "\n",
       "[5572 rows x 2 columns]"
      ]
     },
     "execution_count": 8,
     "metadata": {},
     "output_type": "execute_result"
    }
   ],
   "source": [
    "# Import the CSV dataset as a dataframe\n",
    "# Since pandas is already imported in cell 1, we can use it directly\n",
    "df = pd.read_csv('SMSSpamCollectionDataset-ptbr-gemma3n.csv', encoding='latin-1')\n",
    "df = df[['label', 'text']]\n",
    "\n",
    "# Display the first few rows to get a glimpse of the data\n",
    "\n",
    "df"
   ]
  },
  {
   "cell_type": "code",
   "execution_count": 9,
   "id": "299f844b",
   "metadata": {},
   "outputs": [
    {
     "name": "stdout",
     "output_type": "stream",
     "text": [
      "Original: Free entry in 2 a wkly comp to win FA Cup final tkts 21st May 2005!\n",
      "Normalizado: free entry wkly comp win cup final tkts 21st may 2005 !\n"
     ]
    }
   ],
   "source": [
    "# Download dos recursos necessários do NLTK\n",
    "nltk.download('punkt', quiet=True)\n",
    "nltk.download('punkt_tab', quiet=True) \n",
    "nltk.download('stopwords', quiet=True)\n",
    "\n",
    "def normalize_text(original_text) -> str:\n",
    "    '''\n",
    "    Recebe um SMS\n",
    "    \n",
    "    Retorna texto original normalizado (mais conservador para melhor performance)\n",
    "    '''\n",
    "\n",
    "    # Convert to lowercase\n",
    "    text = original_text.lower()\n",
    "\n",
    "    # Remove extra spaces\n",
    "    text = re.sub(r'\\s+', ' ', text).strip()\n",
    "    \n",
    "    # Tokenize (método mais simples se houver problemas com punkt)\n",
    "    try:\n",
    "        words = nltk.word_tokenize(text)\n",
    "    except:\n",
    "        # Fallback para tokenização simples\n",
    "        words = text.split()\n",
    "    \n",
    "    # Remove stopwords apenas as mais comuns (mais conservador)\n",
    "    # IMPORTANTE: Preservar símbolos financeiros e matemáticos mesmo que sejam curtos\n",
    "    common_stopwords = {'the', 'a', 'an', 'and', 'or', 'but', 'in', 'on', 'at', 'to', 'for', 'of', 'with', 'by', 'is', 'are', 'was', 'were', 'be', 'been', 'have', 'has', 'had', 'do', 'does', 'did', 'will', 'would', 'could', 'should'}\n",
    "    \n",
    "    # Símbolos financeiros e matemáticos importantes para detecção de spam/smishing\n",
    "    important_symbols = {\n",
    "        # Símbolos financeiros\n",
    "        '$', '£', '€', '¥', '₹', '¢', \n",
    "        # Símbolos matemáticos\n",
    "        '+', '-', '*', '/', '=', '<', '>', '≤', '≥', '≠', '±', '×', '÷',\n",
    "        # Outros símbolos importantes  \n",
    "        '%', '#', '@', '&', '!', '?'\n",
    "    }\n",
    "    \n",
    "    # Manter palavra se: não é stopword E (tem mais de 1 char OU é símbolo importante)\n",
    "    words = [word for word in words if word not in common_stopwords and (len(word) > 1 or word in important_symbols)]\n",
    "    \n",
    "    # NÃO aplicar stemming agressivo - manter palavras mais íntegras\n",
    "    # Preservar símbolos importantes e palavras relevantes\n",
    "    words = [word for word in words if len(word) > 2 or word in important_symbols]\n",
    "    \n",
    "    # Join words back into a string\n",
    "    normalized_text = ' '.join(words)\n",
    "    \n",
    "    return normalized_text\n",
    "\n",
    "# Testar com um exemplo\n",
    "sample_text = \"Free entry in 2 a wkly comp to win FA Cup final tkts 21st May 2005!\"\n",
    "print(f\"Original: {sample_text}\")\n",
    "print(f\"Normalizado: {normalize_text(sample_text)}\")"
   ]
  },
  {
   "cell_type": "markdown",
   "id": "f4e0678b",
   "metadata": {},
   "source": [
    "(debugando o por quê do símbolo de dolar estar sumindo e verificando que ainda funciona...)"
   ]
  },
  {
   "cell_type": "markdown",
   "id": "82e9e8ff",
   "metadata": {},
   "source": [
    "### Balanceando dataset"
   ]
  },
  {
   "cell_type": "code",
   "execution_count": 10,
   "id": "1e95eceb",
   "metadata": {},
   "outputs": [
    {
     "data": {
      "application/vnd.microsoft.datawrangler.viewer.v0+json": {
       "columns": [
        {
         "name": "index",
         "rawType": "int64",
         "type": "integer"
        },
        {
         "name": "label",
         "rawType": "object",
         "type": "string"
        },
        {
         "name": "text",
         "rawType": "object",
         "type": "string"
        }
       ],
       "ref": "3f8b3f27-736d-451d-8668-b67c897b1508",
       "rows": [
        [
         "3714",
         "ham",
         "âAi, que late! EntÃ£o chama a gente amanhÃ£ de manhÃ£. Cuida bem dos seus sonhos... vocÃª e eu... indefinindo... tchau.â"
        ],
        [
         "1311",
         "ham",
         "âVocÃª estÃ¡ demais perto do meu coraÃ§Ã£o. Se vocÃª for embora, eu vou ser despedaÃ§ada. Por favor, fique comigo.â"
        ],
        [
         "548",
         "ham",
         "âAguarde &lt;#&gt;  minâ¦â\n"
        ],
        [
         "1324",
         "ham",
         "âOlÃ¡! Pode me chamar, por favor? Seu nÃºmero mostra em Ã¡rea de bloqueio. Preciso de uma ligaÃ§Ã£o urgente em Vasai, e preciso alcanÃ§ar antes das 4 da tarde, entÃ£o por favor, me ligue, por favor.â\n"
        ],
        [
         "3184",
         "ham",
         "âTalvez se vocÃª acordasse antes de 3, isso nÃ£o seria um problema.â"
        ],
        [
         "1075",
         "ham",
         "âOi. Estou na re. Kicchu kaaj korte iccha korche na. Telefone tÃ¡ na. Por favor, por favor.â\n"
        ],
        [
         "1412",
         "ham",
         "âVocÃª Ã© uma pessoa adorÃ¡vel, irritada com vocÃª, nÃ£o leve isso a sÃ©rio. Ser bravo Ã© a maneira mais inocente e verdadeira de mostrar amor, cuidado e afetoâ¦ Kettoda mandaâ¦ Tenha um bom dia.â"
        ],
        [
         "3043",
         "ham",
         "âMe avise como isso muda nos prÃ³ximos 6 horas. Pode atÃ© ser um apÃªndice, mas vocÃª estÃ¡ fora desse intervalo de idade. No entanto, nÃ£o Ã© impossÃ­vel. EntÃ£o, apenas relaxe e me avise em 6 horas.â"
        ],
        [
         "14",
         "ham",
         "âE eu tenho um encontro de domingo com Will!â"
        ],
        [
         "5097",
         "ham",
         "âDesculpa por isso, essa Ã© a telefone do meu amigo e eu nÃ£o escrevi isso, amor Kate.â"
        ],
        [
         "3484",
         "ham",
         "âOi! Eu ouvi falar que vocÃª vai comprar um apartamento em Chennai:-)\"\n"
        ],
        [
         "2209",
         "ham",
         "âOlÃ¡! Boa noite!â"
        ],
        [
         "4454",
         "ham",
         "âA mensagem estÃ¡ se espalhando: VocÃª estÃ¡ ligando, vocÃª diz \\HELLO\\\". VocÃª sabe o que significa o significado real do HELLO? . . . Ã o nome de uma garota! . . . Sim.. E vocÃª sabe quem Ã© essa garota? âMargaret, Helloâ. Ela Ã© a namorada de Graham Bell, que inventou o telefone... . . . Moral: Uma pessoa pode esquecer o nome de uma pessoa.â"
        ],
        [
         "3942",
         "ham",
         "âRecebi uma ligaÃ§Ã£o de um nÃºmero de telefone residencial. . . Me pedem para vir para Anna Nagar. . . Eu vou no final do dia.â\n"
        ],
        [
         "5108",
         "ham",
         "âA idade nÃ£o Ã© quando comeÃ§amos a dizer coisas grandesâ¦ Mas, na verdade, Ã© quando comeÃ§amos a entender coisas pequenasâ¦ *Tenha uma boa noite* BSLVYLâ"
        ],
        [
         "955",
         "ham",
         "âDesculpa, agora eu entÃ£o c ur msg... Cara, coisa feia... Mas sÃ³ pra uma noite... VocÃª vai ter uma nova cama pra dormir...â"
        ],
        [
         "2488",
         "ham",
         "âAi, e rain like quite big leh. Kalau hujan, aku bisa setidaknya lari pulang.â\n"
        ],
        [
         "1389",
         "ham",
         "âHaha... Onde vocÃª perdeu peso tÃ£o rÃ¡pido, obrigado, meu amigo, a gente passou um mÃªs e o efeito ficou... GÃªnn... Depois a gente vai pra academia e colocar o BK e peso.â"
        ],
        [
         "1998",
         "ham",
         "âE aÃ­, preciso ir para a aula, meu amor... VocÃª nunca voltou para mim... :-( ... Espero que vocÃª tenha uma boa noite, meu amor.â\n"
        ],
        [
         "1355",
         "ham",
         "âOi! Quero te dar um abraÃ§o!â"
        ],
        [
         "979",
         "ham",
         "âMais um mÃªs. Preciso de chocolate-ganhalho e Ã¡lcool.â"
        ],
        [
         "5092",
         "ham",
         "âMeu amigo... Okie, indo pra minha rua, indo comprar depois de TTâ¦â\n"
        ],
        [
         "1878",
         "ham",
         "âEstou na festa com Alex Nichols.â\n"
        ],
        [
         "3181",
         "ham",
         "âMÃ£e, filho, filhos, amigos e colegas. Todos gritandoâ¦ SURPRESA !! e eu estava esperando no sofÃ¡â¦ ... ..... âNAKEDâ¦!â"
        ],
        [
         "2955",
         "ham",
         "âSim, tinha muitos doces.â"
        ],
        [
         "5070",
         "ham",
         "âE aÃ­, qual estilo?â"
        ],
        [
         "4382",
         "ham",
         "âNÃ£o precisa, amor, e o que vocÃª, irmÃ£, fazendo hoje?â"
        ],
        [
         "4440",
         "ham",
         "âEstou indo para a orchard agora, jÃ¡ estou quase chegando. Chegando?â"
        ],
        [
         "5119",
         "ham",
         "âHaha, real! Ela me disse meu pai que eu tenho cÃ¢ncer.â"
        ],
        [
         "31",
         "ham",
         "âE aÃ­, ele entrou por 2 e tava super arrependido. Ela tinha saÃ­do e estava agindo como uma crianÃ§a mimada e ele se envolveu com isso. AtÃ© 2! Mas nÃ£o vamos nisso! NÃ£o estamos muito ruins, hein? VocÃª?â"
        ],
        [
         "3928",
         "ham",
         "âSim. VocÃª nÃ£o consegue a essa.â"
        ],
        [
         "1218",
         "ham",
         "âOi! TambÃ©m tÃ´ bem, :) quando vai completar o curso?â\n"
        ],
        [
         "5533",
         "ham",
         "âE aÃ­, chefe? Pode me dar um jeito quando chegar com isso? Preciso falar com vocÃª sobre essa visita real no primeiro de junho.â"
        ],
        [
         "1138",
         "ham",
         "âVocÃª estÃ¡ vestindo?â"
        ],
        [
         "5553",
         "ham",
         "âHahaâ¦ use your brain, dear.â\n"
        ],
        [
         "1787",
         "ham",
         "âSim:)sura in sun tv.:) lol.â\n"
        ],
        [
         "2837",
         "ham",
         "âEstamos tentando encontrar um lugar de comida chinesa por aqui.â"
        ],
        [
         "2911",
         "ham",
         "âVocÃª nÃ£o precisou me dizer isso... agora estou pensando. AlÃ©m disso, ele vai parar todos seus treinos.â"
        ],
        [
         "3880",
         "ham",
         "âOlÃ¡! Pode me dizer a resposta? BSLVYL enviado por fullonsms.comâ"
        ],
        [
         "4864",
         "ham",
         "âAi, que droga! VocÃª me queimou o cabelo!â"
        ],
        [
         "2509",
         "ham",
         "âAcordou jÃ¡? O que vocÃª estÃ¡ fazendo? Vamo pegar mais tarde, nÃ©?â\n\nâVocÃª pode verificar o horÃ¡rio de chegada. Estou levando o sq825, atingindo 7, algo como isso. Pode verificar, tÃ¡? Cya soonâ¦â"
        ],
        [
         "3462",
         "ham",
         "âEstou procurando uma mulher na rua e um cara na cama. Ã vocÃª?â"
        ],
        [
         "4105",
         "ham",
         "âEntÃ£o, o que vocÃª estÃ¡ vindo para a aula?â"
        ],
        [
         "5273",
         "ham",
         "âÃ tarde demais:) mas tudo bem. Desejo que vocÃª tenha o mesmo.â"
        ],
        [
         "5548",
         "ham",
         "âNÃ£o, eu estava tentando tudo o weekend ;Vâ"
        ],
        [
         "3146",
         "ham",
         "âAi, que atraso! Boa noite, e eu te ligo amanhÃ£. Agora vou dormir, noite, noite.â\n"
        ],
        [
         "175",
         "ham",
         "âMe avise quando tiver o dinheiro, Carlos pode fazer a ligaÃ§Ã£o.â"
        ],
        [
         "3831",
         "ham",
         "âOk.â"
        ],
        [
         "121",
         "ham",
         "âOlha, aqui estÃ¡ o meu novo endereÃ§o - apples&pairs&all that malarkyâ"
        ],
        [
         "2062",
         "ham",
         "âE aÃ­, tem algum treinamento amanhÃ£?â\n"
        ]
       ],
       "shape": {
        "columns": 2,
        "rows": 1494
       }
      },
      "text/html": [
       "<div>\n",
       "<style scoped>\n",
       "    .dataframe tbody tr th:only-of-type {\n",
       "        vertical-align: middle;\n",
       "    }\n",
       "\n",
       "    .dataframe tbody tr th {\n",
       "        vertical-align: top;\n",
       "    }\n",
       "\n",
       "    .dataframe thead th {\n",
       "        text-align: right;\n",
       "    }\n",
       "</style>\n",
       "<table border=\"1\" class=\"dataframe\">\n",
       "  <thead>\n",
       "    <tr style=\"text-align: right;\">\n",
       "      <th></th>\n",
       "      <th>label</th>\n",
       "      <th>text</th>\n",
       "    </tr>\n",
       "  </thead>\n",
       "  <tbody>\n",
       "    <tr>\n",
       "      <th>3714</th>\n",
       "      <td>ham</td>\n",
       "      <td>âAi, que late! EntÃ£o chama a gente amanhÃ£ ...</td>\n",
       "    </tr>\n",
       "    <tr>\n",
       "      <th>1311</th>\n",
       "      <td>ham</td>\n",
       "      <td>âVocÃª estÃ¡ demais perto do meu coraÃ§Ã£o. ...</td>\n",
       "    </tr>\n",
       "    <tr>\n",
       "      <th>548</th>\n",
       "      <td>ham</td>\n",
       "      <td>âAguarde &amp;lt;#&amp;gt;  minâ¦â\\n</td>\n",
       "    </tr>\n",
       "    <tr>\n",
       "      <th>1324</th>\n",
       "      <td>ham</td>\n",
       "      <td>âOlÃ¡! Pode me chamar, por favor? Seu nÃºmer...</td>\n",
       "    </tr>\n",
       "    <tr>\n",
       "      <th>3184</th>\n",
       "      <td>ham</td>\n",
       "      <td>âTalvez se vocÃª acordasse antes de 3, isso ...</td>\n",
       "    </tr>\n",
       "    <tr>\n",
       "      <th>...</th>\n",
       "      <td>...</td>\n",
       "      <td>...</td>\n",
       "    </tr>\n",
       "    <tr>\n",
       "      <th>504</th>\n",
       "      <td>spam</td>\n",
       "      <td>âParabÃ©ns! Neste dia de sorte da competiÃ§Ã...</td>\n",
       "    </tr>\n",
       "    <tr>\n",
       "      <th>737</th>\n",
       "      <td>spam</td>\n",
       "      <td>âOi! Oferta de Fidelidade do Cliente: A NOVA...</td>\n",
       "    </tr>\n",
       "    <tr>\n",
       "      <th>1928</th>\n",
       "      <td>spam</td>\n",
       "      <td>âOlÃ¡! Essa chamada vem de 08702490080. Ela ...</td>\n",
       "    </tr>\n",
       "    <tr>\n",
       "      <th>3228</th>\n",
       "      <td>spam</td>\n",
       "      <td>âDinheiro, saldo atual Ã© 500 libras - para ...</td>\n",
       "    </tr>\n",
       "    <tr>\n",
       "      <th>712</th>\n",
       "      <td>spam</td>\n",
       "      <td>âOlÃ¡! Seu acesso Ã  conta da Amazon foi sus...</td>\n",
       "    </tr>\n",
       "  </tbody>\n",
       "</table>\n",
       "<p>1494 rows × 2 columns</p>\n",
       "</div>"
      ],
      "text/plain": [
       "     label                                               text\n",
       "3714   ham  âAi, que late! EntÃ£o chama a gente amanhÃ£ ...\n",
       "1311   ham  âVocÃª estÃ¡ demais perto do meu coraÃ§Ã£o. ...\n",
       "548    ham                  âAguarde &lt;#&gt;  minâ¦â\\n\n",
       "1324   ham  âOlÃ¡! Pode me chamar, por favor? Seu nÃºmer...\n",
       "3184   ham  âTalvez se vocÃª acordasse antes de 3, isso ...\n",
       "...    ...                                                ...\n",
       "504   spam  âParabÃ©ns! Neste dia de sorte da competiÃ§Ã...\n",
       "737   spam  âOi! Oferta de Fidelidade do Cliente: A NOVA...\n",
       "1928  spam  âOlÃ¡! Essa chamada vem de 08702490080. Ela ...\n",
       "3228  spam  âDinheiro, saldo atual Ã© 500 libras - para ...\n",
       "712   spam  âOlÃ¡! Seu acesso Ã  conta da Amazon foi sus...\n",
       "\n",
       "[1494 rows x 2 columns]"
      ]
     },
     "execution_count": 10,
     "metadata": {},
     "output_type": "execute_result"
    }
   ],
   "source": [
    "df_ham = df[df[\"label\"] == \"ham\"]\n",
    "df_spam = df[df[\"label\"] == \"spam\"]\n",
    "\n",
    "min_len = min(len(df_ham), len(df_spam))\n",
    "\n",
    "\n",
    "df_ham_sample = df_ham.sample(n=min_len, random_state=42)\n",
    "df_spam_sample = df_spam.sample(n=min_len, random_state=42)\n",
    "\n",
    "big_df = df\n",
    "df = pd.concat([df_ham_sample,df_spam_sample])\n",
    "df\n"
   ]
  },
  {
   "cell_type": "code",
   "execution_count": 11,
   "id": "8e4e3cc2",
   "metadata": {},
   "outputs": [
    {
     "name": "stdout",
     "output_type": "stream",
     "text": [
      "                                                   text  \\\n",
      "3714  âAi, que late! EntÃ£o chama a gente amanhÃ£ ...   \n",
      "1311  âVocÃª estÃ¡ demais perto do meu coraÃ§Ã£o. ...   \n",
      "548                   âAguarde &lt;#&gt;  minâ¦â\\n   \n",
      "1324  âOlÃ¡! Pode me chamar, por favor? Seu nÃºmer...   \n",
      "3184  âTalvez se vocÃª acordasse antes de 3, isso ...   \n",
      "\n",
      "                                        normalized_text  \n",
      "3714  âai que late ! entã£o chama gente amanhã£ ma...  \n",
      "1311  âvocãª estã¡ demais perto meu coraã§ã£o vocã...  \n",
      "548                          âaguarde & # & minâ¦â  \n",
      "1324  âolã¡ ! pode chamar por favor ? seu nãºmero ...  \n",
      "3184  âtalvez vocãª acordasse antes isso nã£o seri...  \n"
     ]
    }
   ],
   "source": [
    "# Apply the normalize_text function to the text column\n",
    "df['normalized_text'] = df['text'].apply(normalize_text)\n",
    "\n",
    "# Display the first few rows to see the normalized text\n",
    "print(df[['text', 'normalized_text']].head())"
   ]
  },
  {
   "cell_type": "markdown",
   "id": "cae67821",
   "metadata": {},
   "source": [
    "### 2. Extração de features\n",
    "\n"
   ]
  },
  {
   "cell_type": "code",
   "execution_count": 12,
   "id": "101118a4",
   "metadata": {
    "vscode": {
     "languageId": "ruby"
    }
   },
   "outputs": [
    {
     "name": "stdout",
     "output_type": "stream",
     "text": [
      "Shape after adding rule columns: (1494, 12)\n"
     ]
    },
    {
     "data": {
      "application/vnd.microsoft.datawrangler.viewer.v0+json": {
       "columns": [
        {
         "name": "index",
         "rawType": "int64",
         "type": "integer"
        },
        {
         "name": "label",
         "rawType": "object",
         "type": "string"
        },
        {
         "name": "text",
         "rawType": "object",
         "type": "string"
        },
        {
         "name": "normalized_text",
         "rawType": "object",
         "type": "string"
        },
        {
         "name": "rule1",
         "rawType": "int64",
         "type": "integer"
        },
        {
         "name": "rule2",
         "rawType": "int64",
         "type": "integer"
        },
        {
         "name": "rule3",
         "rawType": "int64",
         "type": "integer"
        },
        {
         "name": "rule4",
         "rawType": "int64",
         "type": "integer"
        },
        {
         "name": "rule5",
         "rawType": "int64",
         "type": "integer"
        },
        {
         "name": "rule6",
         "rawType": "int64",
         "type": "integer"
        },
        {
         "name": "rule7",
         "rawType": "int64",
         "type": "integer"
        },
        {
         "name": "rule8",
         "rawType": "int64",
         "type": "integer"
        },
        {
         "name": "rule9",
         "rawType": "int64",
         "type": "integer"
        }
       ],
       "ref": "4614a51b-953b-4e8e-b591-2fce52596665",
       "rows": [
        [
         "3714",
         "ham",
         "âAi, que late! EntÃ£o chama a gente amanhÃ£ de manhÃ£. Cuida bem dos seus sonhos... vocÃª e eu... indefinindo... tchau.â",
         "âai que late ! entã£o chama gente amanhã£ manhã£ cuida bem dos seus sonhos ... vocãª ... indefinindo ... tchau.â",
         "0",
         "0",
         "1",
         "0",
         "1",
         "0",
         "0",
         "1",
         "0"
        ],
        [
         "1311",
         "ham",
         "âVocÃª estÃ¡ demais perto do meu coraÃ§Ã£o. Se vocÃª for embora, eu vou ser despedaÃ§ada. Por favor, fique comigo.â",
         "âvocãª estã¡ demais perto meu coraã§ã£o vocãª embora vou ser despedaã§ada por favor fique comigo.â",
         "0",
         "0",
         "1",
         "0",
         "0",
         "0",
         "0",
         "1",
         "0"
        ],
        [
         "548",
         "ham",
         "âAguarde &lt;#&gt;  minâ¦â\n",
         "âaguarde & # & minâ¦â",
         "0",
         "0",
         "0",
         "0",
         "0",
         "0",
         "0",
         "1",
         "0"
        ],
        [
         "1324",
         "ham",
         "âOlÃ¡! Pode me chamar, por favor? Seu nÃºmero mostra em Ã¡rea de bloqueio. Preciso de uma ligaÃ§Ã£o urgente em Vasai, e preciso alcanÃ§ar antes das 4 da tarde, entÃ£o por favor, me ligue, por favor.â\n",
         "âolã¡ ! pode chamar por favor ? seu nãºmero mostra ã¡rea bloqueio preciso uma ligaã§ã£o urgente vasai preciso alcanã§ar antes das tarde entã£o por favor ligue por favor.â",
         "0",
         "0",
         "1",
         "0",
         "1",
         "0",
         "0",
         "1",
         "0"
        ],
        [
         "3184",
         "ham",
         "âTalvez se vocÃª acordasse antes de 3, isso nÃ£o seria um problema.â",
         "âtalvez vocãª acordasse antes isso nã£o seria problema.â",
         "0",
         "0",
         "1",
         "0",
         "1",
         "0",
         "0",
         "1",
         "0"
        ]
       ],
       "shape": {
        "columns": 12,
        "rows": 5
       }
      },
      "text/html": [
       "<div>\n",
       "<style scoped>\n",
       "    .dataframe tbody tr th:only-of-type {\n",
       "        vertical-align: middle;\n",
       "    }\n",
       "\n",
       "    .dataframe tbody tr th {\n",
       "        vertical-align: top;\n",
       "    }\n",
       "\n",
       "    .dataframe thead th {\n",
       "        text-align: right;\n",
       "    }\n",
       "</style>\n",
       "<table border=\"1\" class=\"dataframe\">\n",
       "  <thead>\n",
       "    <tr style=\"text-align: right;\">\n",
       "      <th></th>\n",
       "      <th>label</th>\n",
       "      <th>text</th>\n",
       "      <th>normalized_text</th>\n",
       "      <th>rule1</th>\n",
       "      <th>rule2</th>\n",
       "      <th>rule3</th>\n",
       "      <th>rule4</th>\n",
       "      <th>rule5</th>\n",
       "      <th>rule6</th>\n",
       "      <th>rule7</th>\n",
       "      <th>rule8</th>\n",
       "      <th>rule9</th>\n",
       "    </tr>\n",
       "  </thead>\n",
       "  <tbody>\n",
       "    <tr>\n",
       "      <th>3714</th>\n",
       "      <td>ham</td>\n",
       "      <td>âAi, que late! EntÃ£o chama a gente amanhÃ£ ...</td>\n",
       "      <td>âai que late ! entã£o chama gente amanhã£ ma...</td>\n",
       "      <td>0</td>\n",
       "      <td>0</td>\n",
       "      <td>1</td>\n",
       "      <td>0</td>\n",
       "      <td>1</td>\n",
       "      <td>0</td>\n",
       "      <td>0</td>\n",
       "      <td>1</td>\n",
       "      <td>0</td>\n",
       "    </tr>\n",
       "    <tr>\n",
       "      <th>1311</th>\n",
       "      <td>ham</td>\n",
       "      <td>âVocÃª estÃ¡ demais perto do meu coraÃ§Ã£o. ...</td>\n",
       "      <td>âvocãª estã¡ demais perto meu coraã§ã£o vocã...</td>\n",
       "      <td>0</td>\n",
       "      <td>0</td>\n",
       "      <td>1</td>\n",
       "      <td>0</td>\n",
       "      <td>0</td>\n",
       "      <td>0</td>\n",
       "      <td>0</td>\n",
       "      <td>1</td>\n",
       "      <td>0</td>\n",
       "    </tr>\n",
       "    <tr>\n",
       "      <th>548</th>\n",
       "      <td>ham</td>\n",
       "      <td>âAguarde &amp;lt;#&amp;gt;  minâ¦â\\n</td>\n",
       "      <td>âaguarde &amp; # &amp; minâ¦â</td>\n",
       "      <td>0</td>\n",
       "      <td>0</td>\n",
       "      <td>0</td>\n",
       "      <td>0</td>\n",
       "      <td>0</td>\n",
       "      <td>0</td>\n",
       "      <td>0</td>\n",
       "      <td>1</td>\n",
       "      <td>0</td>\n",
       "    </tr>\n",
       "    <tr>\n",
       "      <th>1324</th>\n",
       "      <td>ham</td>\n",
       "      <td>âOlÃ¡! Pode me chamar, por favor? Seu nÃºmer...</td>\n",
       "      <td>âolã¡ ! pode chamar por favor ? seu nãºmero ...</td>\n",
       "      <td>0</td>\n",
       "      <td>0</td>\n",
       "      <td>1</td>\n",
       "      <td>0</td>\n",
       "      <td>1</td>\n",
       "      <td>0</td>\n",
       "      <td>0</td>\n",
       "      <td>1</td>\n",
       "      <td>0</td>\n",
       "    </tr>\n",
       "    <tr>\n",
       "      <th>3184</th>\n",
       "      <td>ham</td>\n",
       "      <td>âTalvez se vocÃª acordasse antes de 3, isso ...</td>\n",
       "      <td>âtalvez vocãª acordasse antes isso nã£o seri...</td>\n",
       "      <td>0</td>\n",
       "      <td>0</td>\n",
       "      <td>1</td>\n",
       "      <td>0</td>\n",
       "      <td>1</td>\n",
       "      <td>0</td>\n",
       "      <td>0</td>\n",
       "      <td>1</td>\n",
       "      <td>0</td>\n",
       "    </tr>\n",
       "  </tbody>\n",
       "</table>\n",
       "</div>"
      ],
      "text/plain": [
       "     label                                               text  \\\n",
       "3714   ham  âAi, que late! EntÃ£o chama a gente amanhÃ£ ...   \n",
       "1311   ham  âVocÃª estÃ¡ demais perto do meu coraÃ§Ã£o. ...   \n",
       "548    ham                  âAguarde &lt;#&gt;  minâ¦â\\n   \n",
       "1324   ham  âOlÃ¡! Pode me chamar, por favor? Seu nÃºmer...   \n",
       "3184   ham  âTalvez se vocÃª acordasse antes de 3, isso ...   \n",
       "\n",
       "                                        normalized_text  rule1  rule2  rule3  \\\n",
       "3714  âai que late ! entã£o chama gente amanhã£ ma...      0      0      1   \n",
       "1311  âvocãª estã¡ demais perto meu coraã§ã£o vocã...      0      0      1   \n",
       "548                          âaguarde & # & minâ¦â      0      0      0   \n",
       "1324  âolã¡ ! pode chamar por favor ? seu nãºmero ...      0      0      1   \n",
       "3184  âtalvez vocãª acordasse antes isso nã£o seri...      0      0      1   \n",
       "\n",
       "      rule4  rule5  rule6  rule7  rule8  rule9  \n",
       "3714      0      1      0      0      1      0  \n",
       "1311      0      0      0      0      1      0  \n",
       "548       0      0      0      0      1      0  \n",
       "1324      0      1      0      0      1      0  \n",
       "3184      0      1      0      0      1      0  "
      ]
     },
     "execution_count": 12,
     "metadata": {},
     "output_type": "execute_result"
    }
   ],
   "source": [
    "# Apply each rule function from the ruleset module to create new columns\n",
    "df['rule1'] = df['normalized_text'].apply(ruleset.rule1)\n",
    "df['rule2'] = df['normalized_text'].apply(ruleset.rule2)\n",
    "df['rule3'] = df['normalized_text'].apply(ruleset.rule3)\n",
    "df['rule4'] = df['normalized_text'].apply(ruleset.rule4)\n",
    "df['rule5'] = df['normalized_text'].apply(ruleset.rule5)\n",
    "df['rule6'] = df['normalized_text'].apply(ruleset.rule6)\n",
    "df['rule7'] = df['normalized_text'].apply(ruleset.rule7)\n",
    "df['rule8'] = df['normalized_text'].apply(ruleset.rule8)\n",
    "df['rule9'] = df['normalized_text'].apply(ruleset.rule9)\n",
    "\n",
    "# Display the dataframe with all rule columns\n",
    "print(\"Shape after adding rule columns:\", df.shape)\n",
    "df.head()"
   ]
  },
  {
   "cell_type": "code",
   "execution_count": 13,
   "id": "bfb4334d",
   "metadata": {},
   "outputs": [
    {
     "name": "stdout",
     "output_type": "stream",
     "text": [
      "Decision Tree Classifier Results:\n",
      "Accuracy: 77.26%\n",
      "\n",
      "Classification Report:\n",
      "              precision    recall  f1-score   support\n",
      "\n",
      "           0       0.79      0.72      0.76       145\n",
      "           1       0.76      0.82      0.79       154\n",
      "\n",
      "    accuracy                           0.77       299\n",
      "   macro avg       0.77      0.77      0.77       299\n",
      "weighted avg       0.77      0.77      0.77       299\n",
      "\n",
      "\n",
      "Confusion Matrix:\n",
      "[[105  40]\n",
      " [ 28 126]]\n",
      "\n",
      "Feature Importance:\n",
      "  Feature  Importance\n",
      "4   rule5    0.595328\n",
      "0   rule1    0.190674\n",
      "1   rule2    0.089719\n",
      "5   rule6    0.069118\n",
      "2   rule3    0.034369\n",
      "6   rule7    0.020612\n",
      "7   rule8    0.000180\n",
      "3   rule4    0.000000\n",
      "8   rule9    0.000000\n",
      "\n",
      "True Negative Rate: 72.41%\n",
      "True Positive Rate (Sensitivity/Recall): 81.82%\n",
      "False Positive Rate: 27.59%\n",
      "False Negative Rate: 18.18%\n"
     ]
    }
   ],
   "source": [
    "import os\n",
    "# Remove the problematic environment variable\n",
    "if 'MPLBACKEND' in os.environ:\n",
    "    del os.environ['MPLBACKEND']\n",
    "\n",
    "from sklearn.model_selection import train_test_split\n",
    "from sklearn.tree import DecisionTreeClassifier, plot_tree\n",
    "from sklearn.metrics import accuracy_score, classification_report, confusion_matrix\n",
    "\n",
    "# Convert labels to binary values (ham=0, spam=1)\n",
    "df['binary_label'] = df['label'].map({'ham': 0, 'spam': 1})\n",
    "\n",
    "# Extract features (all rule columns) and target variable\n",
    "X = df[['rule1', 'rule2', 'rule3', 'rule4', 'rule5', 'rule6', 'rule7', 'rule8', 'rule9']]\n",
    "y = df['binary_label']\n",
    "\n",
    "# Split the data into training and testing sets (80% training, 20% testing)\n",
    "X_train, X_test, y_train, y_test = train_test_split(\n",
    "    X, y, test_size=0.2, random_state=42\n",
    ")\n",
    "\n",
    "# Create and train a Decision Tree Classifier\n",
    "dt_classifier = DecisionTreeClassifier(random_state=42)\n",
    "dt_classifier.fit(X_train, y_train)\n",
    "\n",
    "# Make predictions on test data\n",
    "y_pred = dt_classifier.predict(X_test)\n",
    "\n",
    "# Evaluate the model\n",
    "accuracy = accuracy_score(y_test, y_pred)\n",
    "class_report = classification_report(y_test, y_pred)\n",
    "conf_matrix = confusion_matrix(y_test, y_pred)\n",
    "\n",
    "# Print the results\n",
    "print(f\"Decision Tree Classifier Results:\")\n",
    "print(f\"Accuracy: {accuracy * 100:.2f}%\")\n",
    "print(\"\\nClassification Report:\")\n",
    "print(class_report)\n",
    "print(\"\\nConfusion Matrix:\")\n",
    "print(conf_matrix)\n",
    "\n",
    "# Calculate feature importances\n",
    "feature_importances = dt_classifier.feature_importances_\n",
    "feature_names = X.columns\n",
    "importance_df = pd.DataFrame({'Feature': feature_names, 'Importance': feature_importances})\n",
    "importance_df = importance_df.sort_values('Importance', ascending=False)\n",
    "\n",
    "print(\"\\nFeature Importance:\")\n",
    "print(importance_df)\n",
    "\n",
    "# Print true negative rate as mentioned in the paper\n",
    "tn, fp, fn, tp = conf_matrix.ravel()\n",
    "tnr = tn / (tn + fp)\n",
    "print(f\"\\nTrue Negative Rate: {tnr * 100:.2f}%\")\n",
    "print(f\"True Positive Rate (Sensitivity/Recall): {tp / (tp + fn) * 100:.2f}%\")\n",
    "print(f\"False Positive Rate: {fp / (fp + tn) * 100:.2f}%\")\n",
    "print(f\"False Negative Rate: {fn / (fn + tp) * 100:.2f}%\")"
   ]
  },
  {
   "cell_type": "code",
   "execution_count": 14,
   "id": "241c2064",
   "metadata": {},
   "outputs": [
    {
     "name": "stdout",
     "output_type": "stream",
     "text": [
      "=== ANÁLISE DE OVERFITTING ===\n",
      "\n",
      "Validação Cruzada (5-fold):\n",
      "Scores: [0.75585284 0.76254181 0.76254181 0.76254181 0.77181208]\n",
      "Média: 0.7631 (+/- 0.0102)\n",
      "Desvio padrão: 0.0051\n",
      "✅ Desvio padrão baixo - modelo parece estável\n",
      "\n",
      "==================================================\n"
     ]
    }
   ],
   "source": [
    "## Análise de Overfitting\n",
    "\n",
    "# Vamos usar validação cruzada para verificar se há overfitting\n",
    "from sklearn.model_selection import cross_val_score, validation_curve, learning_curve\n",
    "import numpy as np\n",
    "\n",
    "# 1. Validação Cruzada com 5 folds\n",
    "print(\"=== ANÁLISE DE OVERFITTING ===\\n\")\n",
    "\n",
    "# Validação cruzada\n",
    "cv_scores = cross_val_score(dt_classifier, X, y, cv=5, scoring='accuracy')\n",
    "print(f\"Validação Cruzada (5-fold):\")\n",
    "print(f\"Scores: {cv_scores}\")\n",
    "print(f\"Média: {cv_scores.mean():.4f} (+/- {cv_scores.std() * 2:.4f})\")\n",
    "print(f\"Desvio padrão: {cv_scores.std():.4f}\")\n",
    "\n",
    "# Se o desvio padrão for muito alto, pode indicar overfitting\n",
    "if cv_scores.std() > 0.02:\n",
    "    print(\"⚠️  ALERTA: Alto desvio padrão pode indicar overfitting!\")\n",
    "else:\n",
    "    print(\"✅ Desvio padrão baixo - modelo parece estável\")\n",
    "\n",
    "print(\"\\n\" + \"=\"*50)"
   ]
  },
  {
   "cell_type": "code",
   "execution_count": 15,
   "id": "7d1b00e1",
   "metadata": {},
   "outputs": [
    {
     "name": "stdout",
     "output_type": "stream",
     "text": [
      "\n",
      "=== ANÁLISE DAS FEATURES ===\n",
      "Distribuição das regras (quantos SMS triggeram cada regra):\n",
      "rule1: 120/1494 (8.0%)\n",
      "rule2: 488/1494 (32.7%)\n",
      "rule3: 730/1494 (48.9%)\n",
      "rule4: 0/1494 (0.0%)\n",
      "rule5: 719/1494 (48.1%)\n",
      "rule6: 172/1494 (11.5%)\n",
      "rule7: 121/1494 (8.1%)\n",
      "rule8: 1487/1494 (99.5%)\n",
      "rule9: 0/1494 (0.0%)\n",
      "\n",
      "SMS que não triggeram NENHUMA regra: 6\n",
      "Destes, quantos são spam: 1\n",
      "Destes, quantos são ham: 5\n",
      "\n",
      "Correlações mais altas entre regras:\n",
      "\n",
      "==================================================\n"
     ]
    }
   ],
   "source": [
    "# 2. Análise da Distribuição das Features\n",
    "print(\"\\n=== ANÁLISE DAS FEATURES ===\")\n",
    "\n",
    "# Verificar distribuição das regras\n",
    "feature_distribution = df[['rule1', 'rule2', 'rule3', 'rule4', 'rule5', 'rule6', 'rule7', 'rule8', 'rule9']].sum()\n",
    "total_samples = len(df)\n",
    "\n",
    "print(\"Distribuição das regras (quantos SMS triggeram cada regra):\")\n",
    "for rule, count in feature_distribution.items():\n",
    "    percentage = (count / total_samples) * 100\n",
    "    print(f\"{rule}: {count}/{total_samples} ({percentage:.1f}%)\")\n",
    "\n",
    "# Verificar quantos SMS não triggeraram nenhuma regra\n",
    "no_rules_triggered = df[(df[['rule1', 'rule2', 'rule3', 'rule4', 'rule5', 'rule6', 'rule7', 'rule8', 'rule9']].sum(axis=1) == 0)]\n",
    "print(f\"\\nSMS que não triggeram NENHUMA regra: {len(no_rules_triggered)}\")\n",
    "print(f\"Destes, quantos são spam: {len(no_rules_triggered[no_rules_triggered['label'] == 'spam'])}\")\n",
    "print(f\"Destes, quantos são ham: {len(no_rules_triggered[no_rules_triggered['label'] == 'ham'])}\")\n",
    "\n",
    "# Verificar correlação entre regras\n",
    "correlation_matrix = df[['rule1', 'rule2', 'rule3', 'rule4', 'rule5', 'rule6', 'rule7', 'rule8', 'rule9']].corr()\n",
    "print(f\"\\nCorrelações mais altas entre regras:\")\n",
    "for i in range(len(correlation_matrix.columns)):\n",
    "    for j in range(i+1, len(correlation_matrix.columns)):\n",
    "        corr_value = correlation_matrix.iloc[i, j]\n",
    "        if abs(corr_value) > 0.3:  # Correlação moderada ou alta\n",
    "            print(f\"{correlation_matrix.columns[i]} vs {correlation_matrix.columns[j]}: {corr_value:.3f}\")\n",
    "\n",
    "print(\"\\n\" + \"=\"*50)"
   ]
  },
  {
   "cell_type": "code",
   "execution_count": 16,
   "id": "985dec54",
   "metadata": {},
   "outputs": [
    {
     "name": "stdout",
     "output_type": "stream",
     "text": [
      "\n",
      "=== ANÁLISE DETALHADA DA RULE4 ===\n",
      "Distribuição Rule4 vs Label:\n",
      "label  ham  spam\n",
      "rule4           \n",
      "0      747   747\n"
     ]
    },
    {
     "ename": "KeyError",
     "evalue": "1",
     "output_type": "error",
     "traceback": [
      "\u001b[31m---------------------------------------------------------------------------\u001b[39m",
      "\u001b[31mKeyError\u001b[39m                                  Traceback (most recent call last)",
      "\u001b[36mFile \u001b[39m\u001b[32m~/Documents/smishing-model/venv/lib/python3.12/site-packages/pandas/core/indexes/base.py:3812\u001b[39m, in \u001b[36mIndex.get_loc\u001b[39m\u001b[34m(self, key)\u001b[39m\n\u001b[32m   3811\u001b[39m \u001b[38;5;28;01mtry\u001b[39;00m:\n\u001b[32m-> \u001b[39m\u001b[32m3812\u001b[39m     \u001b[38;5;28;01mreturn\u001b[39;00m \u001b[38;5;28;43mself\u001b[39;49m\u001b[43m.\u001b[49m\u001b[43m_engine\u001b[49m\u001b[43m.\u001b[49m\u001b[43mget_loc\u001b[49m\u001b[43m(\u001b[49m\u001b[43mcasted_key\u001b[49m\u001b[43m)\u001b[49m\n\u001b[32m   3813\u001b[39m \u001b[38;5;28;01mexcept\u001b[39;00m \u001b[38;5;167;01mKeyError\u001b[39;00m \u001b[38;5;28;01mas\u001b[39;00m err:\n",
      "\u001b[36mFile \u001b[39m\u001b[32mpandas/_libs/index.pyx:167\u001b[39m, in \u001b[36mpandas._libs.index.IndexEngine.get_loc\u001b[39m\u001b[34m()\u001b[39m\n",
      "\u001b[36mFile \u001b[39m\u001b[32mpandas/_libs/index.pyx:196\u001b[39m, in \u001b[36mpandas._libs.index.IndexEngine.get_loc\u001b[39m\u001b[34m()\u001b[39m\n",
      "\u001b[36mFile \u001b[39m\u001b[32mpandas/_libs/hashtable_class_helper.pxi:2606\u001b[39m, in \u001b[36mpandas._libs.hashtable.Int64HashTable.get_item\u001b[39m\u001b[34m()\u001b[39m\n",
      "\u001b[36mFile \u001b[39m\u001b[32mpandas/_libs/hashtable_class_helper.pxi:2630\u001b[39m, in \u001b[36mpandas._libs.hashtable.Int64HashTable.get_item\u001b[39m\u001b[34m()\u001b[39m\n",
      "\u001b[31mKeyError\u001b[39m: 1",
      "\nThe above exception was the direct cause of the following exception:\n",
      "\u001b[31mKeyError\u001b[39m                                  Traceback (most recent call last)",
      "\u001b[36mCell\u001b[39m\u001b[36m \u001b[39m\u001b[32mIn[16]\u001b[39m\u001b[32m, line 10\u001b[39m\n\u001b[32m      7\u001b[39m \u001b[38;5;28mprint\u001b[39m(rule4_analysis)\n\u001b[32m      9\u001b[39m \u001b[38;5;66;03m# Calcular métricas se usássemos apenas a rule4\u001b[39;00m\n\u001b[32m---> \u001b[39m\u001b[32m10\u001b[39m rule4_only_accuracy = ((rule4_analysis.loc[\u001b[32m0\u001b[39m, \u001b[33m'\u001b[39m\u001b[33mham\u001b[39m\u001b[33m'\u001b[39m] + \u001b[43mrule4_analysis\u001b[49m\u001b[43m.\u001b[49m\u001b[43mloc\u001b[49m\u001b[43m[\u001b[49m\u001b[32;43m1\u001b[39;49m\u001b[43m,\u001b[49m\u001b[43m \u001b[49m\u001b[33;43m'\u001b[39;49m\u001b[33;43mspam\u001b[39;49m\u001b[33;43m'\u001b[39;49m\u001b[43m]\u001b[49m) / \u001b[38;5;28mlen\u001b[39m(df))\n\u001b[32m     11\u001b[39m \u001b[38;5;28mprint\u001b[39m(\u001b[33mf\u001b[39m\u001b[33m\"\u001b[39m\u001b[38;5;130;01m\\n\u001b[39;00m\u001b[33mSe usássemos APENAS a Rule4:\u001b[39m\u001b[33m\"\u001b[39m)\n\u001b[32m     12\u001b[39m \u001b[38;5;28mprint\u001b[39m(\u001b[33mf\u001b[39m\u001b[33m\"\u001b[39m\u001b[33mAcurácia: \u001b[39m\u001b[38;5;132;01m{\u001b[39;00mrule4_only_accuracy\u001b[38;5;132;01m:\u001b[39;00m\u001b[33m.4f\u001b[39m\u001b[38;5;132;01m}\u001b[39;00m\u001b[33m (\u001b[39m\u001b[38;5;132;01m{\u001b[39;00mrule4_only_accuracy*\u001b[32m100\u001b[39m\u001b[38;5;132;01m:\u001b[39;00m\u001b[33m.2f\u001b[39m\u001b[38;5;132;01m}\u001b[39;00m\u001b[33m%)\u001b[39m\u001b[33m\"\u001b[39m)\n",
      "\u001b[36mFile \u001b[39m\u001b[32m~/Documents/smishing-model/venv/lib/python3.12/site-packages/pandas/core/indexing.py:1183\u001b[39m, in \u001b[36m_LocationIndexer.__getitem__\u001b[39m\u001b[34m(self, key)\u001b[39m\n\u001b[32m   1181\u001b[39m     key = \u001b[38;5;28mtuple\u001b[39m(com.apply_if_callable(x, \u001b[38;5;28mself\u001b[39m.obj) \u001b[38;5;28;01mfor\u001b[39;00m x \u001b[38;5;129;01min\u001b[39;00m key)\n\u001b[32m   1182\u001b[39m     \u001b[38;5;28;01mif\u001b[39;00m \u001b[38;5;28mself\u001b[39m._is_scalar_access(key):\n\u001b[32m-> \u001b[39m\u001b[32m1183\u001b[39m         \u001b[38;5;28;01mreturn\u001b[39;00m \u001b[38;5;28;43mself\u001b[39;49m\u001b[43m.\u001b[49m\u001b[43mobj\u001b[49m\u001b[43m.\u001b[49m\u001b[43m_get_value\u001b[49m\u001b[43m(\u001b[49m\u001b[43m*\u001b[49m\u001b[43mkey\u001b[49m\u001b[43m,\u001b[49m\u001b[43m \u001b[49m\u001b[43mtakeable\u001b[49m\u001b[43m=\u001b[49m\u001b[38;5;28;43mself\u001b[39;49m\u001b[43m.\u001b[49m\u001b[43m_takeable\u001b[49m\u001b[43m)\u001b[49m\n\u001b[32m   1184\u001b[39m     \u001b[38;5;28;01mreturn\u001b[39;00m \u001b[38;5;28mself\u001b[39m._getitem_tuple(key)\n\u001b[32m   1185\u001b[39m \u001b[38;5;28;01melse\u001b[39;00m:\n\u001b[32m   1186\u001b[39m     \u001b[38;5;66;03m# we by definition only have the 0th axis\u001b[39;00m\n",
      "\u001b[36mFile \u001b[39m\u001b[32m~/Documents/smishing-model/venv/lib/python3.12/site-packages/pandas/core/frame.py:4226\u001b[39m, in \u001b[36mDataFrame._get_value\u001b[39m\u001b[34m(self, index, col, takeable)\u001b[39m\n\u001b[32m   4220\u001b[39m engine = \u001b[38;5;28mself\u001b[39m.index._engine\n\u001b[32m   4222\u001b[39m \u001b[38;5;28;01mif\u001b[39;00m \u001b[38;5;129;01mnot\u001b[39;00m \u001b[38;5;28misinstance\u001b[39m(\u001b[38;5;28mself\u001b[39m.index, MultiIndex):\n\u001b[32m   4223\u001b[39m     \u001b[38;5;66;03m# CategoricalIndex: Trying to use the engine fastpath may give incorrect\u001b[39;00m\n\u001b[32m   4224\u001b[39m     \u001b[38;5;66;03m#  results if our categories are integers that dont match our codes\u001b[39;00m\n\u001b[32m   4225\u001b[39m     \u001b[38;5;66;03m# IntervalIndex: IntervalTree has no get_loc\u001b[39;00m\n\u001b[32m-> \u001b[39m\u001b[32m4226\u001b[39m     row = \u001b[38;5;28;43mself\u001b[39;49m\u001b[43m.\u001b[49m\u001b[43mindex\u001b[49m\u001b[43m.\u001b[49m\u001b[43mget_loc\u001b[49m\u001b[43m(\u001b[49m\u001b[43mindex\u001b[49m\u001b[43m)\u001b[49m\n\u001b[32m   4227\u001b[39m     \u001b[38;5;28;01mreturn\u001b[39;00m series._values[row]\n\u001b[32m   4229\u001b[39m \u001b[38;5;66;03m# For MultiIndex going through engine effectively restricts us to\u001b[39;00m\n\u001b[32m   4230\u001b[39m \u001b[38;5;66;03m#  same-length tuples; see test_get_set_value_no_partial_indexing\u001b[39;00m\n",
      "\u001b[36mFile \u001b[39m\u001b[32m~/Documents/smishing-model/venv/lib/python3.12/site-packages/pandas/core/indexes/base.py:3819\u001b[39m, in \u001b[36mIndex.get_loc\u001b[39m\u001b[34m(self, key)\u001b[39m\n\u001b[32m   3814\u001b[39m     \u001b[38;5;28;01mif\u001b[39;00m \u001b[38;5;28misinstance\u001b[39m(casted_key, \u001b[38;5;28mslice\u001b[39m) \u001b[38;5;129;01mor\u001b[39;00m (\n\u001b[32m   3815\u001b[39m         \u001b[38;5;28misinstance\u001b[39m(casted_key, abc.Iterable)\n\u001b[32m   3816\u001b[39m         \u001b[38;5;129;01mand\u001b[39;00m \u001b[38;5;28many\u001b[39m(\u001b[38;5;28misinstance\u001b[39m(x, \u001b[38;5;28mslice\u001b[39m) \u001b[38;5;28;01mfor\u001b[39;00m x \u001b[38;5;129;01min\u001b[39;00m casted_key)\n\u001b[32m   3817\u001b[39m     ):\n\u001b[32m   3818\u001b[39m         \u001b[38;5;28;01mraise\u001b[39;00m InvalidIndexError(key)\n\u001b[32m-> \u001b[39m\u001b[32m3819\u001b[39m     \u001b[38;5;28;01mraise\u001b[39;00m \u001b[38;5;167;01mKeyError\u001b[39;00m(key) \u001b[38;5;28;01mfrom\u001b[39;00m\u001b[38;5;250m \u001b[39m\u001b[34;01merr\u001b[39;00m\n\u001b[32m   3820\u001b[39m \u001b[38;5;28;01mexcept\u001b[39;00m \u001b[38;5;167;01mTypeError\u001b[39;00m:\n\u001b[32m   3821\u001b[39m     \u001b[38;5;66;03m# If we have a listlike key, _check_indexing_error will raise\u001b[39;00m\n\u001b[32m   3822\u001b[39m     \u001b[38;5;66;03m#  InvalidIndexError. Otherwise we fall through and re-raise\u001b[39;00m\n\u001b[32m   3823\u001b[39m     \u001b[38;5;66;03m#  the TypeError.\u001b[39;00m\n\u001b[32m   3824\u001b[39m     \u001b[38;5;28mself\u001b[39m._check_indexing_error(key)\n",
      "\u001b[31mKeyError\u001b[39m: 1"
     ]
    }
   ],
   "source": [
    "# 3. Análise específica da Rule4 (dominante)\n",
    "print(\"\\n=== ANÁLISE DETALHADA DA RULE4 ===\")\n",
    "\n",
    "# Analisar a performance da rule4 sozinha\n",
    "rule4_analysis = df.groupby(['rule4', 'label']).size().unstack(fill_value=0)\n",
    "print(\"Distribuição Rule4 vs Label:\")\n",
    "print(rule4_analysis)\n",
    "\n",
    "# Calcular métricas se usássemos apenas a rule4\n",
    "rule4_only_accuracy = ((rule4_analysis.loc[0, 'ham'] + rule4_analysis.loc[1, 'spam']) / len(df))\n",
    "print(f\"\\nSe usássemos APENAS a Rule4:\")\n",
    "print(f\"Acurácia: {rule4_only_accuracy:.4f} ({rule4_only_accuracy*100:.2f}%)\")\n",
    "\n",
    "# Verificar quantos spam/ham triggeraram rule4\n",
    "spam_with_rule4 = len(df[(df['label'] == 'spam') & (df['rule4'] == 1)])\n",
    "total_spam = len(df[df['label'] == 'spam'])\n",
    "ham_with_rule4 = len(df[(df['label'] == 'ham') & (df['rule4'] == 1)])\n",
    "total_ham = len(df[df['label'] == 'ham'])\n",
    "\n",
    "print(f\"\\nRule4 detecta {spam_with_rule4}/{total_spam} spam ({spam_with_rule4/total_spam*100:.1f}%)\")\n",
    "print(f\"Rule4 é triggerrada por {ham_with_rule4}/{total_ham} ham ({ham_with_rule4/total_ham*100:.1f}%)\")\n",
    "\n",
    "# Isso mostra se a rule4 é muito específica\n",
    "if ham_with_rule4/total_ham < 0.02:  # Menos de 2% dos ham triggeram rule4\n",
    "    print(\"⚠️  Rule4 pode estar sendo muito específica para spam!\")\n",
    "\n",
    "print(\"\\n\" + \"=\"*50)"
   ]
  },
  {
   "cell_type": "code",
   "execution_count": null,
   "id": "8c8df901",
   "metadata": {},
   "outputs": [],
   "source": [
    "# 4. Teste sem a Rule4 dominante\n",
    "print(\"\\n=== TESTE SEM RULE4 ===\")\n",
    "\n",
    "# Treinar modelo sem a rule4\n",
    "X_without_rule4 = df[['rule1', 'rule2', 'rule3', 'rule5', 'rule6', 'rule7', 'rule8', 'rule9']]\n",
    "y = df['binary_label']\n",
    "\n",
    "# Split dos dados\n",
    "X_train_no4, X_test_no4, y_train_no4, y_test_no4 = train_test_split(\n",
    "    X_without_rule4, y, test_size=0.2, random_state=42\n",
    ")\n",
    "\n",
    "# Treinar novo modelo\n",
    "dt_no_rule4 = DecisionTreeClassifier(random_state=42)\n",
    "dt_no_rule4.fit(X_train_no4, y_train_no4)\n",
    "\n",
    "# Fazer predições\n",
    "y_pred_no4 = dt_no_rule4.predict(X_test_no4)\n",
    "accuracy_no4 = accuracy_score(y_test_no4, y_pred_no4)\n",
    "\n",
    "print(f\"Acurácia SEM Rule4: {accuracy_no4:.4f} ({accuracy_no4*100:.2f}%)\")\n",
    "print(f\"Queda de performance: {(accuracy - accuracy_no4)*100:.2f} pontos percentuais\")\n",
    "\n",
    "# Feature importance sem rule4\n",
    "feature_imp_no4 = dt_no_rule4.feature_importances_\n",
    "feature_names_no4 = X_without_rule4.columns\n",
    "importance_df_no4 = pd.DataFrame({'Feature': feature_names_no4, 'Importance': feature_imp_no4})\n",
    "importance_df_no4 = importance_df_no4.sort_values('Importance', ascending=False)\n",
    "\n",
    "print(f\"\\nNova distribuição de importância (sem rule4):\")\n",
    "for idx, row in importance_df_no4.iterrows():\n",
    "    print(f\"{row['Feature']}: {row['Importance']:.3f}\")\n",
    "\n",
    "# Validação cruzada sem rule4\n",
    "cv_scores_no4 = cross_val_score(dt_no_rule4, X_without_rule4, y, cv=5, scoring='accuracy')\n",
    "print(f\"\\nValidação cruzada sem rule4: {cv_scores_no4.mean():.4f} (+/- {cv_scores_no4.std() * 2:.4f})\")\n",
    "\n",
    "print(\"\\n\" + \"=\"*50)"
   ]
  },
  {
   "cell_type": "code",
   "execution_count": null,
   "id": "a9fef097",
   "metadata": {},
   "outputs": [],
   "source": [
    "# 5. Conclusões sobre Overfitting - ANÁLISE FINAL ATUALIZADA\n",
    "print(\"\\n=== CONCLUSÕES SOBRE OVERFITTING (DATASET BALANCEADO) ===\")\n",
    "\n",
    "# Primeiro, vamos obter os dados corretos das análises anteriores\n",
    "cv_std = cv_scores.std()\n",
    "no_rules_count = len(no_rules_triggered)\n",
    "no_rules_spam = len(no_rules_triggered[no_rules_triggered['label'] == 'spam'])\n",
    "no_rules_ham = len(no_rules_triggered[no_rules_triggered['label'] == 'ham'])\n",
    "\n",
    "# Obter importância da rule4 do modelo atual\n",
    "rule4_importance = importance_df[importance_df['Feature'] == 'rule4']['Importance'].iloc[0]\n",
    "\n",
    "print(\"✅ EVIDÊNCIAS CONTRA OVERFITTING:\")\n",
    "print(f\"• Validação cruzada estável (std = {cv_std:.3f} = {cv_std*100:.1f}%)\")\n",
    "print(f\"• Modelo sem rule4 ainda tem {accuracy_no4*100:.2f}% de acurácia\")\n",
    "print(f\"• {no_rules_count} SMS não triggeram nenhuma regra ({no_rules_ham} ham, {no_rules_spam} spam)\")\n",
    "print(f\"• Dataset balanceado: {total_spam} spam vs {total_ham} ham\")\n",
    "\n",
    "print(\"\\n⚠️  POSSÍVEIS PREOCUPAÇÕES:\")\n",
    "print(f\"• Rule4 domina com {rule4_importance*100:.1f}% de importância\")\n",
    "print(f\"• Rule4 sozinha já dá {rule4_only_accuracy*100:.2f}% de acurácia\")\n",
    "print(f\"• Rule4 detecta {spam_with_rule4/total_spam*100:.1f}% dos spam mas apenas {ham_with_rule4/total_ham*100:.1f}% dos ham\")\n",
    "\n",
    "# Verificar rule9\n",
    "rule9_count = feature_distribution['rule9']\n",
    "print(f\"• Rule9 (email) triggera apenas {rule9_count} casos ({rule9_count/total_samples*100:.1f}%)\")\n",
    "\n",
    "print(\"\\n🔍 INTERPRETAÇÃO:\")\n",
    "print(\"• NÃO há overfitting clássico (modelo generaliza bem)\")\n",
    "print(\"• Dataset balanceado reduz viés, mas rule4 ainda domina\")\n",
    "print(\"• DEPENDÊNCIA EXCESSIVA da rule4 (números de telefone)\")\n",
    "print(\"• Modelo encontrou um 'atalho' muito específico para este dataset\")\n",
    "print(\"• Risco de falsos negativos em spam sem números de telefone\")\n",
    "\n",
    "print(f\"\\n📊 RESUMO NUMÉRICO ATUALIZADO:\")\n",
    "print(f\"• Acurácia com todas as features: {accuracy*100:.2f}%\")\n",
    "print(f\"• Acurácia sem rule4: {accuracy_no4*100:.2f}%\")\n",
    "print(f\"• Perda de performance sem rule4: {(accuracy - accuracy_no4)*100:.2f} pontos percentuais\")\n",
    "print(f\"• Dependência da rule4: {(accuracy - accuracy_no4)/accuracy*100:.1f}% da performance total\")\n",
    "\n",
    "print(f\"\\n🎯 MÉTRICAS DE BALANCEAMENTO:\")\n",
    "print(f\"• True Negative Rate: {tnr*100:.2f}%\")\n",
    "print(f\"• True Positive Rate: {tp/(tp+fn)*100:.2f}%\")\n",
    "print(f\"• Precisão: {tp/(tp+fp)*100:.2f}%\")\n",
    "print(f\"• F1-Score: {2*tp/(2*tp+fp+fn)*100:.2f}%\")\n",
    "\n",
    "print(f\"\\n💡 RECOMENDAÇÕES:\")\n",
    "print(\"1. Investigar rule4 - pode estar muito permissiva para números\")\n",
    "print(\"2. Melhorar rules menos usadas (rule6, rule7, rule9)\")\n",
    "print(\"3. Testar com dataset de spam sem números de telefone\")\n",
    "print(\"4. Considerar ensemble de modelos para reduzir dependência\")\n",
    "print(\"5. Aplicar regularização para balancear importância das features\")\n",
    "\n",
    "print(\"\\n\" + \"=\"*70)"
   ]
  }
 ],
 "metadata": {
  "kernelspec": {
   "display_name": "venv",
   "language": "python",
   "name": "python3"
  },
  "language_info": {
   "codemirror_mode": {
    "name": "ipython",
    "version": 3
   },
   "file_extension": ".py",
   "mimetype": "text/x-python",
   "name": "python",
   "nbconvert_exporter": "python",
   "pygments_lexer": "ipython3",
   "version": "3.12.3"
  }
 },
 "nbformat": 4,
 "nbformat_minor": 5
}
